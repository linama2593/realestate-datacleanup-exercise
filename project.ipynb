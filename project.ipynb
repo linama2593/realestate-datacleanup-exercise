{
 "cells": [
  {
   "attachments": {},
   "cell_type": "markdown",
   "id": "c4e52ee5",
   "metadata": {},
   "source": [
    "## The dataset\n",
    "\n",
    "This is a real dataset and it was downloaded using web scraping techniques. The data contains registers from fotocasa which is one of the most popular websites of real estate in Spain. Please, do not do this (web scraping) unless it is for academic purposes.\n",
    "\n",
    "The dataset was downloaded a few years ago by Henry Navarro and In no case were economic returns obtained from it.\n",
    "\n",
    "It contains thousands of data from real homes published on the web www.fotocasa.com. Your goal is to extract as much information as possible with the knowledge you have so far about data science, for example what is the most expensive home in the entire dataset?\n",
    "\n",
    "Let's start with precisely that question... Good luck!\n"
   ]
  },
  {
   "attachments": {},
   "cell_type": "markdown",
   "id": "dd97255d",
   "metadata": {},
   "source": [
    "#### Read the dataset assets/real_estate.csv and try to visualize the table (★☆☆)"
   ]
  },
  {
   "cell_type": "code",
   "execution_count": 61,
   "id": "4b93d9c8",
   "metadata": {},
   "outputs": [
    {
     "data": {
      "text/html": [
       "<div>\n",
       "<style scoped>\n",
       "    .dataframe tbody tr th:only-of-type {\n",
       "        vertical-align: middle;\n",
       "    }\n",
       "\n",
       "    .dataframe tbody tr th {\n",
       "        vertical-align: top;\n",
       "    }\n",
       "\n",
       "    .dataframe thead th {\n",
       "        text-align: right;\n",
       "    }\n",
       "</style>\n",
       "<table border=\"1\" class=\"dataframe\">\n",
       "  <thead>\n",
       "    <tr style=\"text-align: right;\">\n",
       "      <th></th>\n",
       "      <th>Unnamed: 0</th>\n",
       "      <th>id_realEstates</th>\n",
       "      <th>isNew</th>\n",
       "      <th>realEstate_name</th>\n",
       "      <th>phone_realEstate</th>\n",
       "      <th>url_inmueble</th>\n",
       "      <th>rooms</th>\n",
       "      <th>bathrooms</th>\n",
       "      <th>surface</th>\n",
       "      <th>price</th>\n",
       "      <th>...</th>\n",
       "      <th>level4Id</th>\n",
       "      <th>level5Id</th>\n",
       "      <th>level6Id</th>\n",
       "      <th>level7Id</th>\n",
       "      <th>level8Id</th>\n",
       "      <th>accuracy</th>\n",
       "      <th>latitude</th>\n",
       "      <th>longitude</th>\n",
       "      <th>zipCode</th>\n",
       "      <th>customZone</th>\n",
       "    </tr>\n",
       "  </thead>\n",
       "  <tbody>\n",
       "    <tr>\n",
       "      <th>0</th>\n",
       "      <td>1</td>\n",
       "      <td>153771986</td>\n",
       "      <td>False</td>\n",
       "      <td>ferrari 57 inmobiliaria</td>\n",
       "      <td>912177526.0</td>\n",
       "      <td>https://www.fotocasa.es/es/comprar/vivienda/ma...</td>\n",
       "      <td>3.0</td>\n",
       "      <td>2.0</td>\n",
       "      <td>103.0</td>\n",
       "      <td>195000</td>\n",
       "      <td>...</td>\n",
       "      <td>0</td>\n",
       "      <td>0</td>\n",
       "      <td>0</td>\n",
       "      <td>0</td>\n",
       "      <td>0</td>\n",
       "      <td>0</td>\n",
       "      <td>40,2948276786438</td>\n",
       "      <td>-3,44402412135624</td>\n",
       "      <td>NaN</td>\n",
       "      <td>NaN</td>\n",
       "    </tr>\n",
       "    <tr>\n",
       "      <th>1</th>\n",
       "      <td>2</td>\n",
       "      <td>153867863</td>\n",
       "      <td>False</td>\n",
       "      <td>tecnocasa fuenlabrada ferrocarril</td>\n",
       "      <td>916358736.0</td>\n",
       "      <td>https://www.fotocasa.es/es/comprar/vivienda/ma...</td>\n",
       "      <td>3.0</td>\n",
       "      <td>1.0</td>\n",
       "      <td>NaN</td>\n",
       "      <td>89000</td>\n",
       "      <td>...</td>\n",
       "      <td>0</td>\n",
       "      <td>0</td>\n",
       "      <td>0</td>\n",
       "      <td>0</td>\n",
       "      <td>0</td>\n",
       "      <td>1</td>\n",
       "      <td>40,28674</td>\n",
       "      <td>-3,79351</td>\n",
       "      <td>NaN</td>\n",
       "      <td>NaN</td>\n",
       "    </tr>\n",
       "    <tr>\n",
       "      <th>2</th>\n",
       "      <td>3</td>\n",
       "      <td>153430440</td>\n",
       "      <td>False</td>\n",
       "      <td>look find boadilla</td>\n",
       "      <td>916350408.0</td>\n",
       "      <td>https://www.fotocasa.es/es/comprar/vivienda/ma...</td>\n",
       "      <td>2.0</td>\n",
       "      <td>2.0</td>\n",
       "      <td>99.0</td>\n",
       "      <td>390000</td>\n",
       "      <td>...</td>\n",
       "      <td>0</td>\n",
       "      <td>0</td>\n",
       "      <td>0</td>\n",
       "      <td>0</td>\n",
       "      <td>0</td>\n",
       "      <td>0</td>\n",
       "      <td>40,4115646786438</td>\n",
       "      <td>-3,90662252135624</td>\n",
       "      <td>NaN</td>\n",
       "      <td>NaN</td>\n",
       "    </tr>\n",
       "    <tr>\n",
       "      <th>3</th>\n",
       "      <td>4</td>\n",
       "      <td>152776331</td>\n",
       "      <td>False</td>\n",
       "      <td>tecnocasa fuenlabrada ferrocarril</td>\n",
       "      <td>916358736.0</td>\n",
       "      <td>https://www.fotocasa.es/es/comprar/vivienda/ma...</td>\n",
       "      <td>3.0</td>\n",
       "      <td>1.0</td>\n",
       "      <td>86.0</td>\n",
       "      <td>89000</td>\n",
       "      <td>...</td>\n",
       "      <td>0</td>\n",
       "      <td>0</td>\n",
       "      <td>0</td>\n",
       "      <td>0</td>\n",
       "      <td>0</td>\n",
       "      <td>0</td>\n",
       "      <td>40,2853785786438</td>\n",
       "      <td>-3,79508142135624</td>\n",
       "      <td>NaN</td>\n",
       "      <td>NaN</td>\n",
       "    </tr>\n",
       "    <tr>\n",
       "      <th>4</th>\n",
       "      <td>5</td>\n",
       "      <td>153180188</td>\n",
       "      <td>False</td>\n",
       "      <td>ferrari 57 inmobiliaria</td>\n",
       "      <td>912177526.0</td>\n",
       "      <td>https://www.fotocasa.es/es/comprar/vivienda/ma...</td>\n",
       "      <td>2.0</td>\n",
       "      <td>2.0</td>\n",
       "      <td>106.0</td>\n",
       "      <td>172000</td>\n",
       "      <td>...</td>\n",
       "      <td>0</td>\n",
       "      <td>0</td>\n",
       "      <td>0</td>\n",
       "      <td>0</td>\n",
       "      <td>0</td>\n",
       "      <td>0</td>\n",
       "      <td>40,2998774864376</td>\n",
       "      <td>-3,45226301356237</td>\n",
       "      <td>NaN</td>\n",
       "      <td>NaN</td>\n",
       "    </tr>\n",
       "    <tr>\n",
       "      <th>...</th>\n",
       "      <td>...</td>\n",
       "      <td>...</td>\n",
       "      <td>...</td>\n",
       "      <td>...</td>\n",
       "      <td>...</td>\n",
       "      <td>...</td>\n",
       "      <td>...</td>\n",
       "      <td>...</td>\n",
       "      <td>...</td>\n",
       "      <td>...</td>\n",
       "      <td>...</td>\n",
       "      <td>...</td>\n",
       "      <td>...</td>\n",
       "      <td>...</td>\n",
       "      <td>...</td>\n",
       "      <td>...</td>\n",
       "      <td>...</td>\n",
       "      <td>...</td>\n",
       "      <td>...</td>\n",
       "      <td>...</td>\n",
       "      <td>...</td>\n",
       "    </tr>\n",
       "    <tr>\n",
       "      <th>15330</th>\n",
       "      <td>15331</td>\n",
       "      <td>153901377</td>\n",
       "      <td>False</td>\n",
       "      <td>infocasa consulting</td>\n",
       "      <td>911360461.0</td>\n",
       "      <td>https://www.fotocasa.es/es/comprar/vivienda/ma...</td>\n",
       "      <td>2.0</td>\n",
       "      <td>1.0</td>\n",
       "      <td>96.0</td>\n",
       "      <td>259470</td>\n",
       "      <td>...</td>\n",
       "      <td>0</td>\n",
       "      <td>0</td>\n",
       "      <td>0</td>\n",
       "      <td>0</td>\n",
       "      <td>0</td>\n",
       "      <td>0</td>\n",
       "      <td>40,45416</td>\n",
       "      <td>-3,70286</td>\n",
       "      <td>NaN</td>\n",
       "      <td>NaN</td>\n",
       "    </tr>\n",
       "    <tr>\n",
       "      <th>15331</th>\n",
       "      <td>15332</td>\n",
       "      <td>150394373</td>\n",
       "      <td>False</td>\n",
       "      <td>inmobiliaria pulpon</td>\n",
       "      <td>912788039.0</td>\n",
       "      <td>https://www.fotocasa.es/es/comprar/vivienda/ma...</td>\n",
       "      <td>3.0</td>\n",
       "      <td>1.0</td>\n",
       "      <td>150.0</td>\n",
       "      <td>165000</td>\n",
       "      <td>...</td>\n",
       "      <td>0</td>\n",
       "      <td>0</td>\n",
       "      <td>0</td>\n",
       "      <td>0</td>\n",
       "      <td>0</td>\n",
       "      <td>0</td>\n",
       "      <td>40,36652</td>\n",
       "      <td>-3,48951</td>\n",
       "      <td>NaN</td>\n",
       "      <td>NaN</td>\n",
       "    </tr>\n",
       "    <tr>\n",
       "      <th>15332</th>\n",
       "      <td>15333</td>\n",
       "      <td>153901397</td>\n",
       "      <td>False</td>\n",
       "      <td>tecnocasa torrelodones</td>\n",
       "      <td>912780348.0</td>\n",
       "      <td>https://www.fotocasa.es/es/comprar/vivienda/ma...</td>\n",
       "      <td>4.0</td>\n",
       "      <td>2.0</td>\n",
       "      <td>175.0</td>\n",
       "      <td>495000</td>\n",
       "      <td>...</td>\n",
       "      <td>0</td>\n",
       "      <td>0</td>\n",
       "      <td>0</td>\n",
       "      <td>0</td>\n",
       "      <td>0</td>\n",
       "      <td>0</td>\n",
       "      <td>40,57444</td>\n",
       "      <td>-3,92124</td>\n",
       "      <td>NaN</td>\n",
       "      <td>NaN</td>\n",
       "    </tr>\n",
       "    <tr>\n",
       "      <th>15333</th>\n",
       "      <td>15334</td>\n",
       "      <td>152607440</td>\n",
       "      <td>False</td>\n",
       "      <td>inmobiliaria pulpon</td>\n",
       "      <td>912788039.0</td>\n",
       "      <td>https://www.fotocasa.es/es/comprar/vivienda/ma...</td>\n",
       "      <td>3.0</td>\n",
       "      <td>2.0</td>\n",
       "      <td>101.0</td>\n",
       "      <td>195000</td>\n",
       "      <td>...</td>\n",
       "      <td>0</td>\n",
       "      <td>0</td>\n",
       "      <td>0</td>\n",
       "      <td>0</td>\n",
       "      <td>0</td>\n",
       "      <td>0</td>\n",
       "      <td>40,36967</td>\n",
       "      <td>-3,48105</td>\n",
       "      <td>NaN</td>\n",
       "      <td>NaN</td>\n",
       "    </tr>\n",
       "    <tr>\n",
       "      <th>15334</th>\n",
       "      <td>15335</td>\n",
       "      <td>153901356</td>\n",
       "      <td>False</td>\n",
       "      <td>infocasa consulting</td>\n",
       "      <td>911360461.0</td>\n",
       "      <td>https://www.fotocasa.es/es/comprar/vivienda/ma...</td>\n",
       "      <td>3.0</td>\n",
       "      <td>2.0</td>\n",
       "      <td>152.0</td>\n",
       "      <td>765000</td>\n",
       "      <td>...</td>\n",
       "      <td>0</td>\n",
       "      <td>0</td>\n",
       "      <td>0</td>\n",
       "      <td>0</td>\n",
       "      <td>0</td>\n",
       "      <td>0</td>\n",
       "      <td>40,45773</td>\n",
       "      <td>-3,69068</td>\n",
       "      <td>NaN</td>\n",
       "      <td>NaN</td>\n",
       "    </tr>\n",
       "  </tbody>\n",
       "</table>\n",
       "<p>15335 rows × 37 columns</p>\n",
       "</div>"
      ],
      "text/plain": [
       "       Unnamed: 0  id_realEstates  isNew                    realEstate_name  \\\n",
       "0               1       153771986  False            ferrari 57 inmobiliaria   \n",
       "1               2       153867863  False  tecnocasa fuenlabrada ferrocarril   \n",
       "2               3       153430440  False                 look find boadilla   \n",
       "3               4       152776331  False  tecnocasa fuenlabrada ferrocarril   \n",
       "4               5       153180188  False            ferrari 57 inmobiliaria   \n",
       "...           ...             ...    ...                                ...   \n",
       "15330       15331       153901377  False                infocasa consulting   \n",
       "15331       15332       150394373  False                inmobiliaria pulpon   \n",
       "15332       15333       153901397  False             tecnocasa torrelodones   \n",
       "15333       15334       152607440  False                inmobiliaria pulpon   \n",
       "15334       15335       153901356  False                infocasa consulting   \n",
       "\n",
       "       phone_realEstate                                       url_inmueble  \\\n",
       "0           912177526.0  https://www.fotocasa.es/es/comprar/vivienda/ma...   \n",
       "1           916358736.0  https://www.fotocasa.es/es/comprar/vivienda/ma...   \n",
       "2           916350408.0  https://www.fotocasa.es/es/comprar/vivienda/ma...   \n",
       "3           916358736.0  https://www.fotocasa.es/es/comprar/vivienda/ma...   \n",
       "4           912177526.0  https://www.fotocasa.es/es/comprar/vivienda/ma...   \n",
       "...                 ...                                                ...   \n",
       "15330       911360461.0  https://www.fotocasa.es/es/comprar/vivienda/ma...   \n",
       "15331       912788039.0  https://www.fotocasa.es/es/comprar/vivienda/ma...   \n",
       "15332       912780348.0  https://www.fotocasa.es/es/comprar/vivienda/ma...   \n",
       "15333       912788039.0  https://www.fotocasa.es/es/comprar/vivienda/ma...   \n",
       "15334       911360461.0  https://www.fotocasa.es/es/comprar/vivienda/ma...   \n",
       "\n",
       "       rooms  bathrooms  surface   price  ... level4Id level5Id level6Id  \\\n",
       "0        3.0        2.0    103.0  195000  ...        0        0        0   \n",
       "1        3.0        1.0      NaN   89000  ...        0        0        0   \n",
       "2        2.0        2.0     99.0  390000  ...        0        0        0   \n",
       "3        3.0        1.0     86.0   89000  ...        0        0        0   \n",
       "4        2.0        2.0    106.0  172000  ...        0        0        0   \n",
       "...      ...        ...      ...     ...  ...      ...      ...      ...   \n",
       "15330    2.0        1.0     96.0  259470  ...        0        0        0   \n",
       "15331    3.0        1.0    150.0  165000  ...        0        0        0   \n",
       "15332    4.0        2.0    175.0  495000  ...        0        0        0   \n",
       "15333    3.0        2.0    101.0  195000  ...        0        0        0   \n",
       "15334    3.0        2.0    152.0  765000  ...        0        0        0   \n",
       "\n",
       "      level7Id level8Id accuracy          latitude          longitude zipCode  \\\n",
       "0            0        0        0  40,2948276786438  -3,44402412135624     NaN   \n",
       "1            0        0        1          40,28674           -3,79351     NaN   \n",
       "2            0        0        0  40,4115646786438  -3,90662252135624     NaN   \n",
       "3            0        0        0  40,2853785786438  -3,79508142135624     NaN   \n",
       "4            0        0        0  40,2998774864376  -3,45226301356237     NaN   \n",
       "...        ...      ...      ...               ...                ...     ...   \n",
       "15330        0        0        0          40,45416           -3,70286     NaN   \n",
       "15331        0        0        0          40,36652           -3,48951     NaN   \n",
       "15332        0        0        0          40,57444           -3,92124     NaN   \n",
       "15333        0        0        0          40,36967           -3,48105     NaN   \n",
       "15334        0        0        0          40,45773           -3,69068     NaN   \n",
       "\n",
       "      customZone  \n",
       "0            NaN  \n",
       "1            NaN  \n",
       "2            NaN  \n",
       "3            NaN  \n",
       "4            NaN  \n",
       "...          ...  \n",
       "15330        NaN  \n",
       "15331        NaN  \n",
       "15332        NaN  \n",
       "15333        NaN  \n",
       "15334        NaN  \n",
       "\n",
       "[15335 rows x 37 columns]"
      ]
     },
     "execution_count": 61,
     "metadata": {},
     "output_type": "execute_result"
    }
   ],
   "source": [
    "import pandas as pd\n",
    "# this CSV file contains semicolons instead of comas as separator\n",
    "ds = pd.read_csv('assets/real_estate.csv', sep=';')\n",
    "ds"
   ]
  },
  {
   "attachments": {},
   "cell_type": "markdown",
   "id": "40631cd6",
   "metadata": {},
   "source": [
    "#### What is the most expensive home in the dataset? (★☆☆)"
   ]
  },
  {
   "cell_type": "code",
   "execution_count": 62,
   "id": "8a758bcf",
   "metadata": {},
   "outputs": [
    {
     "name": "stdout",
     "output_type": "stream",
     "text": [
      "       id_realEstates    price       level5\n",
      "13110       132042636  8500000  El Escorial\n"
     ]
    }
   ],
   "source": [
    "ds.describe()\n",
    "ds.describe(include=[object])\n",
    "print(ds[['id_realEstates','price','level5']][ds['price']==ds['price'].max()])\n",
    "#ANSWER: home with id_realEstates==132042636 is the most expensive and it costs 8500000 EUR"
   ]
  },
  {
   "attachments": {},
   "cell_type": "markdown",
   "id": "0a708990",
   "metadata": {},
   "source": [
    "#### What is cheapest home in the dataset? (★☆☆)"
   ]
  },
  {
   "cell_type": "code",
   "execution_count": 63,
   "id": "477e01f4",
   "metadata": {},
   "outputs": [
    {
     "name": "stdout",
     "output_type": "stream",
     "text": [
      "      id_realEstates  price   level5\n",
      "7491       153977752    600  Coslada\n",
      "       id_realEstates  price                   level5\n",
      "12233       152327984  16200  Los Santos de la Humosa\n",
      "15099       151611787  16200  Los Santos de la Humosa\n"
     ]
    }
   ],
   "source": [
    "#Here I filter values >0 as there are about 5 homes with price at zero EUR (perhaps a data-entry mistake?), homes are not free\n",
    "cheapest=ds[ds['price']>0]['price'].min()\n",
    "print(ds[['id_realEstates','price','level5']][ds['price']==cheapest])\n",
    "#ANSWER: home with id_realEstates==153977752 is the cheapest home and it costs 600 EUR\n",
    "# 600 EUR for a 3 bed 1 bath home is quite low, not sure if there's a mistake in the data\n",
    "\n",
    "cheapest=ds[ds['price']>600]['price'].min()\n",
    "print(ds[['id_realEstates','price','level5']][ds['price']==cheapest])\n",
    "#ANSWER: homes with id_realEstates==152327984 and  id_realEstates==151611787 are the SECOND cheapest homes and they both cost 16200 EUR each"
   ]
  },
  {
   "attachments": {},
   "cell_type": "markdown",
   "id": "0b16cd77",
   "metadata": {},
   "source": [
    "#### What is the biggest and the smallest home in the dataset? (★☆☆)"
   ]
  },
  {
   "cell_type": "code",
   "execution_count": 64,
   "id": "4d9b5975",
   "metadata": {},
   "outputs": [
    {
     "name": "stdout",
     "output_type": "stream",
     "text": [
      "      id_realEstates   surface            level5\n",
      "6794       153936192  249000.0  Sevilla la Nueva\n",
      "     id_realEstates  surface           level5\n",
      "498       152817874     15.0   Madrid Capital\n"
     ]
    }
   ],
   "source": [
    "print(ds[['id_realEstates','surface','level5']][ds['surface']==ds['surface'].max()])\n",
    "#ANSWER: home with id_realEstates==153936192 is the biggest home with a surface of 249000\n",
    "\n",
    "\n",
    "print(ds[['id_realEstates','surface','level5']][ds['surface']==ds['surface'].min()])\n",
    "#ANSWER: home with id_realEstates==152817874 is the smallest home with a surface of 15"
   ]
  },
  {
   "attachments": {},
   "cell_type": "markdown",
   "id": "782d4c77",
   "metadata": {},
   "source": [
    "#### How many populations (level5) the dataset contains? (★☆☆)"
   ]
  },
  {
   "cell_type": "code",
   "execution_count": 65,
   "id": "5dbe1a08",
   "metadata": {},
   "outputs": [
    {
     "name": "stdout",
     "output_type": "stream",
     "text": [
      "object\n",
      "level5\n",
      " Madrid Capital        6643\n",
      "Alcalá de Henares       525\n",
      "Las Rozas de Madrid     383\n",
      "Móstoles                325\n",
      "Getafe                  290\n",
      "                       ... \n",
      "Ambite                    1\n",
      "Navarredonda              1\n",
      "Braojos                   1\n",
      "Piñuécar-gandullas        1\n",
      "Brea de Tajo              1\n",
      "Name: count, Length: 168, dtype: int64\n"
     ]
    }
   ],
   "source": [
    "print(ds['level5'].dtypes) #checking the data type of column level5\n",
    "print(ds['level5'].value_counts())\n",
    "#The result shows there are 168 unique level 5 populations\n",
    "\n"
   ]
  },
  {
   "attachments": {},
   "cell_type": "markdown",
   "id": "48d48f01",
   "metadata": {},
   "source": [
    "#### Does the dataset contain NAs? (★☆☆)\n"
   ]
  },
  {
   "cell_type": "code",
   "execution_count": 66,
   "id": "3ed233e7",
   "metadata": {},
   "outputs": [
    {
     "name": "stdout",
     "output_type": "stream",
     "text": [
      "zipCode             15335\n",
      "customZone          15335\n",
      "level6              14627\n",
      "level8               8579\n",
      "level4               6643\n",
      "level7               2277\n",
      "surface              1250\n",
      "phone_realEstate      794\n",
      "rooms                 353\n",
      "bathrooms             345\n",
      "description           142\n",
      "realEstate_name        10\n",
      "Unnamed: 0              0\n",
      "id_realEstates          0\n",
      "isNew                   0\n",
      "address                 0\n",
      "country                 0\n",
      "level3                  0\n",
      "date                    0\n",
      "price                   0\n",
      "url_inmueble            0\n",
      "level5                  0\n",
      "level1                  0\n",
      "level2                  0\n",
      "upperLevel              0\n",
      "level2Id                0\n",
      "level3Id                0\n",
      "countryId               0\n",
      "level1Id                0\n",
      "level5Id                0\n",
      "level4Id                0\n",
      "level6Id                0\n",
      "level7Id                0\n",
      "accuracy                0\n",
      "level8Id                0\n",
      "longitude               0\n",
      "latitude                0\n",
      "dtype: int64\n"
     ]
    }
   ],
   "source": [
    "print(ds.isna().sum().sort_values(ascending=False))\n",
    "#Assuming NAs means missing data(NaN), the code above counts the missing data for each variable of the dataframe ds. There are 12 variables with missing data"
   ]
  },
  {
   "attachments": {},
   "cell_type": "markdown",
   "id": "4fa39382",
   "metadata": {},
   "source": [
    "#### Delete the NAs of the dataset, if applicable (★★☆)"
   ]
  },
  {
   "cell_type": "code",
   "execution_count": 67,
   "id": "c97757ec",
   "metadata": {},
   "outputs": [
    {
     "name": "stdout",
     "output_type": "stream",
     "text": [
      "       Unnamed: 0  id_realEstates  isNew                   realEstate_name  \\\n",
      "477           478       152616002  False                 capta real estate   \n",
      "764           765       153173283  False                           expimad   \n",
      "827           828       154001766   True      tecnocasa ciudad de alcorcon   \n",
      "839           840       145685352  False                       inver hogar   \n",
      "846           847       153576169  False                       inver hogar   \n",
      "...           ...             ...    ...                               ...   \n",
      "14268       14269       153513890  False               inmobiliaria alpiso   \n",
      "14438       14439       153919168  False                           mabelan   \n",
      "14531       14532       153786684  False  vitapiso servicios inmobiliarios   \n",
      "14896       14897       150606951  False  soluciones inmobiliarias fergosa   \n",
      "14969       14970       152862615  False                oikos inmobiliaria   \n",
      "\n",
      "       phone_realEstate                                       url_inmueble  \\\n",
      "477         910754469.0  https://www.fotocasa.es/es/comprar/vivienda/ma...   \n",
      "764         912780412.0  https://www.fotocasa.es/es/comprar/vivienda/ma...   \n",
      "827         911795412.0  https://www.fotocasa.es/es/comprar/vivienda/la...   \n",
      "839         918000198.0  https://www.fotocasa.es/es/comprar/vivienda/la...   \n",
      "846         918000198.0  https://www.fotocasa.es/es/comprar/vivienda/ma...   \n",
      "...                 ...                                                ...   \n",
      "14268       988776128.0  https://www.fotocasa.es/es/comprar/vivienda/ma...   \n",
      "14438       912665538.0  https://www.fotocasa.es/es/comprar/vivienda/al...   \n",
      "14531       910302591.0  https://www.fotocasa.es/es/comprar/vivienda/ge...   \n",
      "14896       912176554.0  https://www.fotocasa.es/es/comprar/vivienda/pa...   \n",
      "14969       912664713.0  https://www.fotocasa.es/es/comprar/vivienda/ca...   \n",
      "\n",
      "       rooms  bathrooms  surface   price  ... level2Id level3Id level4Id  \\\n",
      "477      5.0        4.0    380.0  725000  ...        0        0        0   \n",
      "764      1.0        1.0     60.0  169000  ...        0        0        0   \n",
      "827      3.0        1.0     65.0  119900  ...        0        0        0   \n",
      "839      7.0        4.0    360.0  672000  ...        0        0        0   \n",
      "846      1.0        1.0     58.0  229000  ...        0        0        0   \n",
      "...      ...        ...      ...     ...  ...      ...      ...      ...   \n",
      "14268    3.0        1.0     62.0  150000  ...        0        0        0   \n",
      "14438    2.0        2.0     68.0  238000  ...        0        0        0   \n",
      "14531    3.0        1.0     70.0   95000  ...        0        0        0   \n",
      "14896    2.0        1.0     65.0  135000  ...        0        0        0   \n",
      "14969    3.0        1.0    120.0  260000  ...        0        0        0   \n",
      "\n",
      "      level5Id level6Id level7Id level8Id accuracy          latitude  \\\n",
      "477          0        0        0        0        0     40,4972927531   \n",
      "764          0        0        0        0        0          40,49186   \n",
      "827          0        0        0        0        0          40,34949   \n",
      "839          0        0        0        0        0          40,50028   \n",
      "846          0        0        0        0        0  40,4941542135624   \n",
      "...        ...      ...      ...      ...      ...               ...   \n",
      "14268        0        0        0        0        0        40,3416428   \n",
      "14438        0        0        0        0        0          40,49204   \n",
      "14531        0        0        0        0        0          40,34635   \n",
      "14896        0        0        0        0        0          40,34484   \n",
      "14969        0        0        0        0        0          40,49245   \n",
      "\n",
      "               longitude  \n",
      "477        -3,8727560034  \n",
      "764             -3,87541  \n",
      "827             -3,83127  \n",
      "839             -3,87628  \n",
      "846    -3,86898578643763  \n",
      "...                  ...  \n",
      "14268  -3,82531010000002  \n",
      "14438           -3,87578  \n",
      "14531            -3,8236  \n",
      "14896           -3,83016  \n",
      "14969           -3,87715  \n",
      "\n",
      "[110 rows x 34 columns]\n",
      "Unnamed: 0          0\n",
      "id_realEstates      0\n",
      "isNew               0\n",
      "realEstate_name     0\n",
      "phone_realEstate    0\n",
      "url_inmueble        0\n",
      "rooms               0\n",
      "bathrooms           0\n",
      "surface             0\n",
      "price               0\n",
      "date                0\n",
      "description         0\n",
      "address             0\n",
      "country             0\n",
      "level1              0\n",
      "level2              0\n",
      "level3              0\n",
      "level5              0\n",
      "upperLevel          0\n",
      "countryId           0\n",
      "level1Id            0\n",
      "level2Id            0\n",
      "level3Id            0\n",
      "level4Id            0\n",
      "level5Id            0\n",
      "level6Id            0\n",
      "level7Id            0\n",
      "level8Id            0\n",
      "accuracy            0\n",
      "latitude            0\n",
      "longitude           0\n",
      "dtype: int64\n",
      "       Unnamed: 0  id_realEstates  isNew                    realEstate_name  \\\n",
      "0               1       153771986  False            ferrari 57 inmobiliaria   \n",
      "2               3       153430440  False                 look find boadilla   \n",
      "3               4       152776331  False  tecnocasa fuenlabrada ferrocarril   \n",
      "4               5       153180188  False            ferrari 57 inmobiliaria   \n",
      "5               6       153934794  False                            expimad   \n",
      "...           ...             ...    ...                                ...   \n",
      "15329       15330       153901392  False                           pqcentro   \n",
      "15330       15331       153901377  False                infocasa consulting   \n",
      "15331       15332       150394373  False                inmobiliaria pulpon   \n",
      "15333       15334       152607440  False                inmobiliaria pulpon   \n",
      "15334       15335       153901356  False                infocasa consulting   \n",
      "\n",
      "       phone_realEstate                                       url_inmueble  \\\n",
      "0           912177526.0  https://www.fotocasa.es/es/comprar/vivienda/ma...   \n",
      "2           916350408.0  https://www.fotocasa.es/es/comprar/vivienda/ma...   \n",
      "3           916358736.0  https://www.fotocasa.es/es/comprar/vivienda/ma...   \n",
      "4           912177526.0  https://www.fotocasa.es/es/comprar/vivienda/ma...   \n",
      "5           912780412.0  https://www.fotocasa.es/es/comprar/vivienda/ma...   \n",
      "...                 ...                                                ...   \n",
      "15329       912665783.0  https://www.fotocasa.es/es/comprar/vivienda/ma...   \n",
      "15330       911360461.0  https://www.fotocasa.es/es/comprar/vivienda/ma...   \n",
      "15331       912788039.0  https://www.fotocasa.es/es/comprar/vivienda/ma...   \n",
      "15333       912788039.0  https://www.fotocasa.es/es/comprar/vivienda/ma...   \n",
      "15334       911360461.0  https://www.fotocasa.es/es/comprar/vivienda/ma...   \n",
      "\n",
      "       rooms  bathrooms  surface   price  ... level2Id level3Id level4Id  \\\n",
      "0        3.0        2.0    103.0  195000  ...        0        0        0   \n",
      "2        2.0        2.0     99.0  390000  ...        0        0        0   \n",
      "3        3.0        1.0     86.0   89000  ...        0        0        0   \n",
      "4        2.0        2.0    106.0  172000  ...        0        0        0   \n",
      "5        2.0        1.0     70.0  315000  ...        0        0        0   \n",
      "...      ...        ...      ...     ...  ...      ...      ...      ...   \n",
      "15329    2.0        2.0    122.0  264500  ...        0        0        0   \n",
      "15330    2.0        1.0     96.0  259470  ...        0        0        0   \n",
      "15331    3.0        1.0    150.0  165000  ...        0        0        0   \n",
      "15333    3.0        2.0    101.0  195000  ...        0        0        0   \n",
      "15334    3.0        2.0    152.0  765000  ...        0        0        0   \n",
      "\n",
      "      level5Id level6Id level7Id level8Id accuracy          latitude  \\\n",
      "0            0        0        0        0        0  40,2948276786438   \n",
      "2            0        0        0        0        0  40,4115646786438   \n",
      "3            0        0        0        0        0  40,2853785786438   \n",
      "4            0        0        0        0        0  40,2998774864376   \n",
      "5            0        0        0        0        0          40,53391   \n",
      "...        ...      ...      ...      ...      ...               ...   \n",
      "15329        0        0        0        0        1          40,24007   \n",
      "15330        0        0        0        0        0          40,45416   \n",
      "15331        0        0        0        0        0          40,36652   \n",
      "15333        0        0        0        0        0          40,36967   \n",
      "15334        0        0        0        0        0          40,45773   \n",
      "\n",
      "               longitude  \n",
      "0      -3,44402412135624  \n",
      "2      -3,90662252135624  \n",
      "3      -3,79508142135624  \n",
      "4      -3,45226301356237  \n",
      "5               -3,89445  \n",
      "...                  ...  \n",
      "15329           -3,70606  \n",
      "15330           -3,70286  \n",
      "15331           -3,48951  \n",
      "15333           -3,48105  \n",
      "15334           -3,69068  \n",
      "\n",
      "[12831 rows x 31 columns]\n"
     ]
    }
   ],
   "source": [
    "\n",
    "#the majority of the missing data is in these 3 columns if I dont remove them, it will give me an empty data frame as a result when applying dropna()\n",
    "new_ds=ds.drop(columns=['level6','zipCode', 'customZone']) \n",
    "\n",
    "new_ds=new_ds.dropna() #the result is a new dataframe with only 110 observations, which reduces the data by a lot and \n",
    "                        #I think it can provide a biased representation of the real state market since we started with roughly 15+ thousand observations\n",
    "print(new_ds)\n",
    "\n",
    "#NOTE:\n",
    "#To not lose that much information, I recommend also removing columns: \n",
    "# level6, level8, level4 and level7, which also contain lots of missing data, and \n",
    "# also remaining excersise uses the level 5 column so there is still location data available\n",
    "\n",
    "modified_ds=ds.drop(columns=['level6','zipCode', 'customZone', 'level6', 'level8', 'level4', 'level7']) \n",
    "modified_ds=modified_ds.dropna()\n",
    "print(modified_ds.isna().sum().sort_values(ascending=False))#double checking there are no missing values left\n",
    "print(modified_ds) #after deleting the missing data, now the result is a dataframe with roughly 12+ thousand observations. This sample size is more \"acceptaple\" and closer to the original one\n",
    "\n"
   ]
  },
  {
   "attachments": {},
   "cell_type": "markdown",
   "id": "0e5f76de",
   "metadata": {},
   "source": [
    "#### What is the mean of prices in the population (level5) of \"Arroyomolinos (Madrid)\"? (★★☆)"
   ]
  },
  {
   "cell_type": "code",
   "execution_count": 68,
   "id": "327f7adb",
   "metadata": {},
   "outputs": [
    {
     "name": "stdout",
     "output_type": "stream",
     "text": [
      "298780.2181818182\n"
     ]
    }
   ],
   "source": [
    "print(modified_ds[modified_ds['level5']=='Arroyomolinos (Madrid)']['price'].mean())\n",
    "#The average home price in Arroyomolinos (Madrid) is 298,780 EUR"
   ]
  },
  {
   "attachments": {},
   "cell_type": "markdown",
   "id": "89b548e3",
   "metadata": {},
   "source": [
    "#### Plot the histogram of prices for the population (level5) of \"Arroyomolinos (Madrid)\" and explain what you observe (★★☆)"
   ]
  },
  {
   "cell_type": "code",
   "execution_count": 69,
   "id": "2ba51bf7",
   "metadata": {},
   "outputs": [
    {
     "name": "stdout",
     "output_type": "stream",
     "text": [
      "110\n"
     ]
    },
    {
     "data": {
      "image/png": "[encoded data removed]",
      "text/plain": [
       "<Figure size 640x480 with 1 Axes>"
      ]
     },
     "metadata": {},
     "output_type": "display_data"
    }
   ],
   "source": [
    "import matplotlib.pyplot as plt\n",
    "print(modified_ds[modified_ds['level5']=='Arroyomolinos (Madrid)']['price'].count()) #100 home prices reported on this area\n",
    "modified_ds[modified_ds['level5']=='Arroyomolinos (Madrid)']['price'].hist(bins=30)\n",
    "plt.show()\n",
    "#Most home prices in Arroyomolinos (Madrid) range between 200,000 EUR and 400,000 EUR. Out of the 110 home prices reported on this area, a bit more than 14 homes are priced at slightly lower than 300,000 EUR"
   ]
  },
  {
   "attachments": {},
   "cell_type": "markdown",
   "id": "c86dc493",
   "metadata": {},
   "source": [
    "#### Now let's work with the \"south belt\" of madrid. Make a subsetting that contains the following populations (level5): \"Fuenlabrada\",\"Leganés\",\"Getafe\",\"Alcorcón\" (★★☆) "
   ]
  },
  {
   "cell_type": "code",
   "execution_count": 70,
   "id": "5280d0cb",
   "metadata": {},
   "outputs": [],
   "source": [
    "mad_south=modified_ds[(modified_ds['level5']=='Fuenlabrada') | (modified_ds['level5']=='Leganés') | (modified_ds['level5']=='Getafe') | (modified_ds['level5']=='Alcorcón')]"
   ]
  },
  {
   "attachments": {},
   "cell_type": "markdown",
   "id": "090a6a3e",
   "metadata": {},
   "source": [
    "#### Make a bar plot of the median of prices (★★★) "
   ]
  },
  {
   "cell_type": "code",
   "execution_count": 71,
   "id": "68aec11c",
   "metadata": {},
   "outputs": [
    {
     "name": "stdout",
     "output_type": "stream",
     "text": [
      "level5\n",
      "Alcorcón       236345.454545\n",
      "Fuenlabrada    181048.456044\n",
      "Getafe         249675.659091\n",
      "Leganés        211178.670520\n",
      "Name: price, dtype: float64\n"
     ]
    },
    {
     "data": {
      "image/png": "[encoded data removed]",
      "text/plain": [
       "<Figure size 640x480 with 1 Axes>"
      ]
     },
     "metadata": {},
     "output_type": "display_data"
    }
   ],
   "source": [
    "mad_south_mean=mad_south.groupby('level5')['price'].mean()\n",
    "print(mad_south_mean)\n",
    "mad_south_mean.plot(kind='bar')\n",
    "plt.show()\n",
    "#In the south belth of Madrid, the area with the highest average home price is Getafe, followed by Alcorcon, where the average home\n",
    "#costs approximately 249,000 EUR and 236,000 EUR, respectively\n"
   ]
  },
  {
   "attachments": {},
   "cell_type": "markdown",
   "id": "18f67373",
   "metadata": {},
   "source": [
    "#### Calculate the sample mean and variance of the variables: price, rooms, surface area and bathrooms (★★★) "
   ]
  },
  {
   "cell_type": "code",
   "execution_count": 72,
   "id": "8d068061",
   "metadata": {},
   "outputs": [
    {
     "name": "stdout",
     "output_type": "stream",
     "text": [
      "price        220590.636488\n",
      "rooms             3.001372\n",
      "surface         110.102881\n",
      "bathrooms         1.615912\n",
      "dtype: float64\n",
      "price        1.529399e+10\n",
      "rooms        7.101630e-01\n",
      "surface      4.212972e+03\n",
      "bathrooms    5.555706e-01\n",
      "dtype: float64\n"
     ]
    }
   ],
   "source": [
    "print(mad_south[['price','rooms','surface','bathrooms']].mean()) #sample mean\n",
    "print(mad_south[['price','rooms','surface','bathrooms']].var()) #sample variance"
   ]
  },
  {
   "attachments": {},
   "cell_type": "markdown",
   "id": "95cfde61",
   "metadata": {},
   "source": [
    "#### What is the most expensive home of each population? (★★☆) "
   ]
  },
  {
   "cell_type": "code",
   "execution_count": 73,
   "id": "1c29f78c",
   "metadata": {},
   "outputs": [
    {
     "name": "stdout",
     "output_type": "stream",
     "text": [
      "level5\n",
      "Alcorcón        950000\n",
      "Fuenlabrada     490000\n",
      "Getafe         1050000\n",
      "Leganés         650000\n",
      "Name: price, dtype: int64\n"
     ]
    }
   ],
   "source": [
    "print(mad_south.groupby('level5')['price'].max()) \n",
    "#Most expensive homes for each population in the shouth belt of Madrid. The most expensive home of all populations is in Getafe valued at 1,050,000 EUR \n"
   ]
  },
  {
   "attachments": {},
   "cell_type": "markdown",
   "id": "ea67579b",
   "metadata": {},
   "source": [
    "#### Normalize the variable of prices for each population and plot the 4 histograms in the same plot (★★★) "
   ]
  },
  {
   "cell_type": "code",
   "execution_count": 74,
   "id": "385ad99c",
   "metadata": {},
   "outputs": [
    {
     "data": {
      "image/png": "[encoded data removed]",
      "text/plain": [
       "<Figure size 640x480 with 1 Axes>"
      ]
     },
     "metadata": {},
     "output_type": "display_data"
    }
   ],
   "source": [
    "zscore = lambda x: (x - x.mean()) / x.std() #creates a lambda fucntion with the Z score formula \n",
    "mad_south.insert(31, 'zprice', mad_south.groupby(['level5'])['price'].transform(zscore)) #adds a new column to the dataframe called 'zprice' with the normalised price for each category of 'level5'\n",
    "\n",
    "mad_south.groupby('level5')['price'].hist(alpha=0.5, bins=50, legend=True)#normalised prices histogram for each south belt location\n",
    "plt.show()"
   ]
  },
  {
   "attachments": {},
   "cell_type": "markdown",
   "id": "2ec1bd5c",
   "metadata": {},
   "source": [
    "#### Make a plot of the coordinates (lat and long) of the south belt of Madrid by color of each population (★★★★) \n",
    "This is a extremely hard exercise and we highly recommend to do it at the end of everything"
   ]
  },
  {
   "cell_type": "code",
   "execution_count": 75,
   "id": "312aac99",
   "metadata": {},
   "outputs": [
    {
     "data": {
      "application/vnd.jupyter.widget-view+json": {
       "model_id": "051db3fb76984627a68b1b21868eee1f",
       "version_major": 2,
       "version_minor": 0
      },
      "text/plain": [
       "Map(center=[40.4168, -3.7038], controls=(ZoomControl(options=['position', 'zoom_in_text', 'zoom_in_title', 'zo…"
      ]
     },
     "execution_count": 75,
     "metadata": {},
     "output_type": "execute_result"
    }
   ],
   "source": [
    "\n",
    "# Run in console the following command before run the rest of code:\n",
    "# jupyter nbextension enable --py --sys-prefix ipyleaflet\n",
    "\n",
    "from ipyleaflet import Map, basemaps, Marker\n",
    "\n",
    "# Map centred on (60 degrees latitude et -2.2 degrees longitude)\n",
    "# Latitude, longitude\n",
    "map = Map(center=(40.4168, -3.7038), zoom=10, basemap=basemaps.Stamen.Terrain)\n",
    "map"
   ]
  },
  {
   "cell_type": "code",
   "execution_count": 76,
   "id": "f7931ec0",
   "metadata": {},
   "outputs": [
    {
     "data": {
      "application/vnd.jupyter.widget-view+json": {
       "model_id": "ea95a46a6e904c9c89d128e23d4552ec",
       "version_major": 2,
       "version_minor": 0
      },
      "text/plain": [
       "Map(center=[40.4168, -3.7038], controls=(ZoomControl(options=['position', 'zoom_in_text', 'zoom_in_title', 'zo…"
      ]
     },
     "execution_count": 76,
     "metadata": {},
     "output_type": "execute_result"
    }
   ],
   "source": [
    "from ipyleaflet import Map, Marker, basemaps\n",
    "\n",
    "# Create the map\n",
    "map = Map(center=(40.4168, -3.7038), zoom=10, basemap=basemaps.Stamen.Terrain)\n",
    "\n",
    "# Add markers to the map\n",
    "for idx, row in mad_south.iterrows():\n",
    "    marker = Marker(location=(row['latitude'], row['longitude']))\n",
    "    \n",
    "    # Adjust color based on region\n",
    "    if row['level5'] == 'Getafe':\n",
    "        marker.color = 'red'\n",
    "        marker.radius = 10  \n",
    "    elif row['level5'] == 'Alcorcón':\n",
    "        marker.color = 'blue'\n",
    "        marker.radius = 10  \n",
    "    elif row['level5'] == 'Fuenlabrada':\n",
    "        marker.color = 'green'\n",
    "        marker.radius = 10  \n",
    "    elif row['level5'] == 'Leganés':\n",
    "        marker.color = 'purple'\n",
    "        marker.radius = 10  \n",
    "    else:\n",
    "        marker.color = 'gray'  # Default color for other regions\n",
    "        marker.radius = 10  \n",
    "    map.add_layer(marker)\n",
    "\n",
    "# Display the map with markers\n",
    "map"
   ]
  },
  {
   "attachments": {},
   "cell_type": "markdown",
   "id": "b22874b7",
   "metadata": {},
   "source": [
    "#### What can you say about the price per square meter between the towns of Getafe and Alcorcón?"
   ]
  },
  {
   "cell_type": "code",
   "execution_count": 77,
   "id": "e0ef506b",
   "metadata": {},
   "outputs": [
    {
     "name": "stdout",
     "output_type": "stream",
     "text": [
      "                 mean         std          min          max\n",
      "level5                                                     \n",
      "Alcorcón  2244.568484  536.998172  1158.227848  3698.159509\n",
      "Getafe    2088.189911  753.993443     0.000000  3827.160494\n",
      "               mean         std          min          max\n",
      "level5                                                   \n",
      "Getafe  2198.094644  596.513947  1196.666667  3827.160494\n"
     ]
    },
    {
     "name": "stderr",
     "output_type": "stream",
     "text": [
      "/tmp/ipykernel_38445/4272704655.py:1: SettingWithCopyWarning: \n",
      "A value is trying to be set on a copy of a slice from a DataFrame.\n",
      "Try using .loc[row_indexer,col_indexer] = value instead\n",
      "\n",
      "See the caveats in the documentation: https://pandas.pydata.org/pandas-docs/stable/user_guide/indexing.html#returning-a-view-versus-a-copy\n",
      "  mad_south['pricesqmt']=mad_south['price']/mad_south['surface']#calculating price per square mts\n"
     ]
    }
   ],
   "source": [
    "mad_south['pricesqmt']=mad_south['price']/mad_south['surface']#calculating price per square mts\n",
    "print(mad_south[(mad_south['level5']=='Getafe')|(mad_south['level5']=='Alcorcón')].groupby('level5')['pricesqmt'].agg(['mean', 'std', 'min', 'max']))\n",
    "#Alcorcon has an average higher price per square meter than Getafe. Prices per square meter in Alcorcon range approximately from 1,100 to 3,600 EUR, \n",
    "#whereas in Getafe prices range from 0 to 3800 EUR, suggesting that there may be some missing information for house prices in Getafe reported as 0\n",
    "\n",
    "print(mad_south[(mad_south['pricesqmt']>0)&(mad_south['level5']=='Getafe')].groupby('level5')['pricesqmt'].agg(['mean', 'std', 'min', 'max']))\n",
    "#After excluding properties wiht prices ==0, the average price per square meter in Getafe is still lower than that of Alcorcon. \n",
    "# Now prices in Getafe range from roughly 1,00 to 3800 EUR per square meter"
   ]
  },
  {
   "attachments": {},
   "cell_type": "markdown",
   "id": "a4376b3f",
   "metadata": {},
   "source": [
    "#### Reload the data, is the average of \"Valdemorillo\" and \"Galapagar\" prices the same?"
   ]
  },
  {
   "cell_type": "code",
   "execution_count": 78,
   "id": "37dbaf65",
   "metadata": {},
   "outputs": [
    {
     "name": "stdout",
     "output_type": "stream",
     "text": [
      "level5\n",
      "Galapagar       381106.701493\n",
      "Valdemorillo    384269.565217\n",
      "Name: price, dtype: float64\n"
     ]
    }
   ],
   "source": [
    "print(modified_ds[(modified_ds['level5']=='Valdemorillo')|(modified_ds['level5']=='Galapagar')].groupby('level5')['price'].mean())\n",
    "#The average home prices in Valdemorillo and Galapagar are not the same but are quite close at roughly 381,000 and 340,000 EUR, respectively"
   ]
  },
  {
   "attachments": {},
   "cell_type": "markdown",
   "id": "b6af45ec",
   "metadata": {},
   "source": [
    "#### What happens if we do the same analysis for price/m2 (★★☆) "
   ]
  },
  {
   "cell_type": "code",
   "execution_count": 79,
   "id": "8231d73e",
   "metadata": {},
   "outputs": [
    {
     "name": "stdout",
     "output_type": "stream",
     "text": [
      "level5\n",
      "Galapagar       1566.515392\n",
      "Valdemorillo    1321.766036\n",
      "Name: pricesqmt, dtype: float64\n"
     ]
    }
   ],
   "source": [
    "modified_ds['pricesqmt']=modified_ds['price']/modified_ds['surface']\n",
    "print(modified_ds[(modified_ds['level5']=='Valdemorillo')|(modified_ds['level5']=='Galapagar')].groupby('level5')['pricesqmt'].mean())\n",
    "#Same as before, the average home prices per square meter in Valdemorillo and Galapagar are not the same but are quite close at roughly 1,500 and 1,300 EUR, respectively"
   ]
  },
  {
   "attachments": {},
   "cell_type": "markdown",
   "id": "2d40e202",
   "metadata": {},
   "source": [
    "#### Could you say there is a relation between surface and price? (★★☆) \n",
    "Hint: make a scatter plot."
   ]
  },
  {
   "cell_type": "code",
   "execution_count": 80,
   "id": "405462e1",
   "metadata": {},
   "outputs": [
    {
     "data": {
      "image/png": "[encoded data removed]",
      "text/plain": [
       "<Figure size 640x480 with 1 Axes>"
      ]
     },
     "metadata": {},
     "output_type": "display_data"
    },
    {
     "data": {
      "image/png": "[encoded data removed]",
      "text/plain": [
       "<Figure size 640x480 with 1 Axes>"
      ]
     },
     "metadata": {},
     "output_type": "display_data"
    }
   ],
   "source": [
    "modified_ds.plot(kind='scatter', x='surface', y='price')\n",
    "plt.show() #the first grapth shows there is an outlier data point at surface==249000, which hinders the visualisation of the relationship between these two variables\n",
    "\n",
    "modified_ds[modified_ds['surface']<200000].plot(kind='scatter',  y='price', x='surface')\n",
    "plt.show() #After filtering the outlier, the scatter plot suggest that there is a positive association between price and surface, meaning that a higher-surface home is correlated with a higher price\n"
   ]
  },
  {
   "attachments": {},
   "cell_type": "markdown",
   "id": "3275db77",
   "metadata": {},
   "source": [
    "#### Make the same plot for 4 different populations (level5) and rearrange them on the same graph? (★★☆) \n",
    "Hint: make a scatter plot of each population using subplots."
   ]
  },
  {
   "cell_type": "code",
   "execution_count": 81,
   "id": "e08292ff",
   "metadata": {},
   "outputs": [
    {
     "data": {
      "image/png": "[encoded data removed]",
      "text/plain": [
       "<Figure size 640x480 with 4 Axes>"
      ]
     },
     "metadata": {},
     "output_type": "display_data"
    }
   ],
   "source": [
    "plt.subplot(2,2,1)\n",
    "# Alcorcón\n",
    "plt.plot(mad_south[mad_south['level5']=='Alcorcón']['surface'], mad_south[mad_south['level5']=='Alcorcón']['price'], 'o')\n",
    "plt.title('Alcorcón')\n",
    "\n",
    "# Fuenlabrada\n",
    "plt.subplot(2,2,2)\n",
    "plt.plot(mad_south[mad_south['level5']=='Fuenlabrada']['surface'], mad_south[mad_south['level5']=='Fuenlabrada']['price'], 'o')\n",
    "plt.title('Fuenlabrada')\n",
    "\n",
    "# Getafe   \n",
    "plt.subplot(2,2,3)\n",
    "plt.plot(mad_south[mad_south['level5']=='Getafe']['surface'], mad_south[mad_south['level5']=='Getafe']['price'], 'o')\n",
    "plt.title('Getafe')\n",
    "\n",
    "# Leganés \n",
    "plt.subplot(2,2,4)\n",
    "plt.plot(mad_south[mad_south['level5']=='Leganés']['surface'], mad_south[mad_south['level5']=='Leganés']['price'], 'o')\n",
    "plt.title('Leganés')\n",
    "\n",
    "plt.tight_layout(h_pad=2)\n",
    "plt.show()\n"
   ]
  },
  {
   "attachments": {},
   "cell_type": "markdown",
   "id": "522c6bd9",
   "metadata": {},
   "source": [
    "#### How many  real estate agencies the dataset contains? (★★☆) "
   ]
  },
  {
   "cell_type": "code",
   "execution_count": 82,
   "id": "014ec6c8",
   "metadata": {},
   "outputs": [
    {
     "name": "stdout",
     "output_type": "stream",
     "text": [
      "realEstate_name                \n",
      "engel volkers madrid               447\n",
      "infocasa consulting                291\n",
      "housell                            250\n",
      "solvia inmobiliaria                198\n",
      "vivienda2                          189\n",
      "                                  ... \n",
      "i house servicios inmobiliarios      1\n",
      "husimadrid                           1\n",
      "house estate                         1\n",
      "realty plus madrid                   1\n",
      "redpiso moncloa                      1\n",
      "Name: count, Length: 1444, dtype: int64\n"
     ]
    }
   ],
   "source": [
    "print(modified_ds[['realEstate_name']].value_counts())\n",
    "#the data contain 1,444 real state agencies "
   ]
  },
  {
   "attachments": {},
   "cell_type": "markdown",
   "id": "899a101e",
   "metadata": {},
   "source": [
    "#### What is the population (level 5) that contains the most houses? (★★☆) "
   ]
  },
  {
   "cell_type": "code",
   "execution_count": 83,
   "id": "9e8b34ba",
   "metadata": {},
   "outputs": [
    {
     "name": "stdout",
     "output_type": "stream",
     "text": [
      "level5             \n",
      " Madrid Capital        5658\n",
      "Alcalá de Henares       474\n",
      "Las Rozas de Madrid     360\n",
      "Móstoles                259\n",
      "Parla                   248\n",
      "                       ... \n",
      "El Atazar                 1\n",
      "Canencia                  1\n",
      "Fresno de Torote          1\n",
      "Villaconejos              1\n",
      "Zarzalejo                 1\n",
      "Name: count, Length: 164, dtype: int64\n"
     ]
    }
   ],
   "source": [
    "print(modified_ds[['level5']].value_counts(ascending=False))\n",
    "#the capital of Madrid contains the most houses with 5,658 listings "
   ]
  }
 ],
 "metadata": {
  "kernelspec": {
   "display_name": "Python 3",
   "language": "python",
   "name": "python3"
  },
  "language_info": {
   "codemirror_mode": {
    "name": "ipython",
    "version": 3
   },
   "file_extension": ".py",
   "mimetype": "text/x-python",
   "name": "python",
   "nbconvert_exporter": "python",
   "pygments_lexer": "ipython3",
   "version": "3.11.4"
  }
 },
 "nbformat": 4,
 "nbformat_minor": 5
}
